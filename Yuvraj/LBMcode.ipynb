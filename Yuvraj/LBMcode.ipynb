{
 "cells": [
  {
   "cell_type": "markdown",
   "metadata": {},
   "source": [
    "# Yuvraj Sharma: YAS001\n",
    "# Numerical Methods\n",
    "## Term Paper project: Lattice Boltzmann Method to Understand fluid flows"
   ]
  },
  {
   "cell_type": "code",
   "execution_count": 1,
   "metadata": {},
   "outputs": [],
   "source": [
    "%matplotlib inline"
   ]
  },
  {
   "cell_type": "code",
   "execution_count": 2,
   "metadata": {},
   "outputs": [],
   "source": [
    "from numpy import *\n",
    "import matplotlib.pyplot as plt\n",
    "from matplotlib import cm"
   ]
  },
  {
   "cell_type": "markdown",
   "metadata": {},
   "source": [
    "# LBM Solver"
   ]
  },
  {
   "cell_type": "markdown",
   "metadata": {},
   "source": [
    "## Initializing variables"
   ]
  },
  {
   "cell_type": "code",
   "execution_count": 3,
   "metadata": {},
   "outputs": [],
   "source": [
    "maxIter = 170000                  # Total number of time iterations.\n",
    "Re = 90                           # Reynolds number.\n",
    "nx, ny = 420, 180                 # Numer of lattice nodes.\n",
    "ly = ny-1                         # Height of the domain in lattice units.\n",
    "cx, cy, L = nx//4, ny//2, ny//9   # Coordinates and characteristic length of the obstacle.\n",
    "u_LB = 0.04                       # Velocity in lattice units.\n",
    "n_LB = u_LB * L / Re;             # Viscosity in lattice units.\n",
    "cs2 = 1/3                         # Speed of sound (lattice constant)\n",
    "w = 1 / (n_LB / cs2 + 0.5);       # Relaxation parameter."
   ]
  },
  {
   "cell_type": "markdown",
   "metadata": {},
   "source": [
    "## Lattice Definitions"
   ]
  },
  {
   "cell_type": "code",
   "execution_count": 38,
   "metadata": {},
   "outputs": [],
   "source": [
    "v = array([ [ 1,  1], [ 1,  0], [ 1, -1], [ 0,  1], [ 0,  0],\n",
    "            [ 0, -1], [-1,  1], [-1,  0], [-1, -1] ])\n",
    "t = array([ 1/36, 1/9, 1/36, 1/9, 4/9, 1/9, 1/36, 1/9, 1/36])\n",
    "\n",
    "col1 = array([0, 1, 2])\n",
    "col2 = array([3, 4, 5])\n",
    "col3 = array([6, 7, 8])"
   ]
  },
  {
   "cell_type": "markdown",
   "metadata": {},
   "source": [
    "## Function Definitions"
   ]
  },
  {
   "cell_type": "code",
   "execution_count": 39,
   "metadata": {},
   "outputs": [],
   "source": [
    "def macroscopic(fin):\n",
    "    \"\"\"\n",
    "    Returns rho and u for entire matrix (lattice)\n",
    "    \"\"\"\n",
    "    rho = sum(fin, axis=0)\n",
    "    u = zeros((2, nx, ny))\n",
    "    for i in range(9):\n",
    "        u[0,:,:] += v[i,0] * fin[i,:,:]\n",
    "        u[1,:,:] += v[i,1] * fin[i,:,:]\n",
    "    u /= rho\n",
    "    return rho, u\n",
    "\n",
    "def equilibrium(rho, u):\n",
    "    \"\"\"\n",
    "    equilibrium distribution function E(i, rho, u) as in report\n",
    "    \"\"\"\n",
    "    usqr = 1/(2*cs2) * (u[0]**2 + u[1]**2)\n",
    "    E = zeros((9,nx,ny))\n",
    "    for i in range(9):\n",
    "        vu = 1/cs2 * (v[i,0] * u[0,:,:] + v[i,1] *u [1,:,:])\n",
    "        E[i,:,:] = rho*t[i] * (1 + vu + 0.5 * vu**2 - usqr)\n",
    "    return E"
   ]
  },
  {
   "cell_type": "markdown",
   "metadata": {},
   "source": [
    "## Obstacle definitions"
   ]
  },
  {
   "cell_type": "code",
   "execution_count": 40,
   "metadata": {},
   "outputs": [],
   "source": [
    "# Creation of a mask with T/F values, defining the shape of the obstacle.\n",
    "\n",
    "def cylinder(x, y):\n",
    "    return (x - cx)**2 + (y - cy)**2 < L**2\n",
    "\n",
    "def square_pillar(x, y):\n",
    "    return abs((x - cx) + (y - cy)) + abs((x - cx) - (y - cy)) < 2*L\n",
    "\n",
    "def sheet(x, y):\n",
    "    r = 20\n",
    "    return abs(r*(x - cx) + (y - cy)) + abs(r*(x - cx) - (y - cy)) < 2*L\n",
    "\n",
    "# Choosing the obstacle\n",
    "obstacle = fromfunction(cylinder, (nx, ny))"
   ]
  },
  {
   "cell_type": "markdown",
   "metadata": {},
   "source": [
    "## Initial velocity profile"
   ]
  },
  {
   "cell_type": "code",
   "execution_count": 41,
   "metadata": {},
   "outputs": [],
   "source": [
    "# Almost zero, with a slight perturbation to trigger the instability.\n",
    "\n",
    "def inivel(d, x, y):\n",
    "    return (1-d) * u_LB * (1 + 1e-4*sin(y/ly*2*pi))\n",
    "\n",
    "vel = fromfunction(inivel, (2,nx,ny))\n",
    "\n",
    "# Initialization of the populations at equilibrium with the given velocity.\n",
    "fin = equilibrium(1, vel)"
   ]
  },
  {
   "cell_type": "markdown",
   "metadata": {},
   "source": [
    "## Main solver"
   ]
  },
  {
   "cell_type": "code",
   "execution_count": 43,
   "metadata": {},
   "outputs": [],
   "source": [
    "# Main time loop\n",
    "for time in range(maxIter):\n",
    "    # Right wall: outflow condition.\n",
    "    fin[col3,-1,:] = fin[col3,-2,:] \n",
    "\n",
    "    # Compute macroscopic variables, density and velocity.\n",
    "    rho, u = macroscopic(fin)\n",
    "\n",
    "    # Left wall: inflow condition.\n",
    "    u[:,0,:] = vel[:,0,:]\n",
    "    rho[0,:] = 1/(1-u[0,0,:]) * ( sum(fin[col2,0,:], axis=0) +\n",
    "                                  2*sum(fin[col3,0,:], axis=0) )\n",
    "    # Compute equilibrium.\n",
    "    E = equilibrium(rho, u)\n",
    "    fin[[0,1,2],0,:] = E[[0,1,2],0,:] + fin[[8,7,6],0,:] - E[[8,7,6],0,:]\n",
    "\n",
    "    # Collision step.\n",
    "    fout = fin - w * (fin - E)\n",
    "\n",
    "    # Bounce-back condition for obstacle.\n",
    "    for i in range(9):\n",
    "        fout[i, obstacle] = fin[8-i, obstacle]\n",
    "\n",
    "    # Streaming step.\n",
    "    for i in range(9):\n",
    "        fin[i,:,:] = roll(\n",
    "                            roll(fout[i,:,:], v[i,0], axis=0),\n",
    "                            v[i,1], axis=1 )\n",
    " \n",
    "    # Visualization of the velocity.\n",
    "    if (time%100==0):\n",
    "        plt.clf()\n",
    "        plt.imshow(sqrt(u[0]**2+u[1]**2).transpose(), cmap=cm.Purples)\n",
    "        plt.savefig(\"/vel.{0:04d}.png\".format(time//100))"
   ]
  },
  {
   "cell_type": "markdown",
   "metadata": {},
   "source": [
    "# Making Videos"
   ]
  },
  {
   "cell_type": "code",
   "execution_count": 13,
   "metadata": {},
   "outputs": [
    {
     "name": "stdout",
     "output_type": "stream",
     "text": [
      "['vel.0000.png' 'vel.0001.png' 'vel.0002.png' ... 'vel.1504.png'\n",
      " 'vel.1505.png' 'vel.1506.png']\n"
     ]
    }
   ],
   "source": [
    "import cv2\n",
    "import os\n",
    "\n",
    "def images_to_video(image_folder, video_name, fps=24):\n",
    "    images = [img for img in os.listdir(image_folder) if img.endswith(\".png\")]\n",
    "    images = np.sort(images)\n",
    "    print(images)\n",
    "    frame = cv2.imread(os.path.join(image_folder, images[0]))\n",
    "    height, width, layers = frame.shape\n",
    "\n",
    "    video = cv2.VideoWriter(video_name, cv2.VideoWriter_fourcc(*'mp4v'), fps, (width, height))\n",
    "\n",
    "    for image in images:\n",
    "        video.write(cv2.imread(os.path.join(image_folder, image)))\n",
    "\n",
    "    cv2.destroyAllWindows()\n",
    "    video.release()\n",
    "\n",
    "image_folder = '/home/yuvi/icts/courses/Numerical Methods/term paper/NM Term Paper/lbm_wall_re_1100'\n",
    "video_name = 'LBM_Re_1100.mp4'\n",
    "fps = 24\n",
    "images_to_video(image_folder, video_name, fps)\n"
   ]
  },
  {
   "cell_type": "code",
   "execution_count": 14,
   "metadata": {},
   "outputs": [
    {
     "name": "stdout",
     "output_type": "stream",
     "text": [
      "['vel.0000.png' 'vel.0001.png' 'vel.0002.png' ... 'vel.1397.png'\n",
      " 'vel.1398.png' 'vel.1399.png']\n"
     ]
    }
   ],
   "source": [
    "image_folder = '/home/yuvi/icts/courses/Numerical Methods/term paper/NM Term Paper/lbm_circle_20'\n",
    "video_name = 'LBM_Circle_Re_20.mp4'\n",
    "fps = 24\n",
    "images_to_video(image_folder, video_name, fps)"
   ]
  },
  {
   "cell_type": "code",
   "execution_count": 20,
   "metadata": {},
   "outputs": [
    {
     "name": "stdout",
     "output_type": "stream",
     "text": [
      "['vel.0000.png' 'vel.0001.png' 'vel.0002.png' ... 'vel.1497.png'\n",
      " 'vel.1498.png' 'vel.1499.png']\n"
     ]
    }
   ],
   "source": [
    "image_folder = '/home/yuvi/icts/courses/Numerical Methods/term paper/NM Term Paper/lbm_circle_90'\n",
    "video_name = 'LBM_Circle_Re_90.mp4'\n",
    "fps = 24\n",
    "images_to_video(image_folder, video_name, fps)"
   ]
  },
  {
   "cell_type": "code",
   "execution_count": 19,
   "metadata": {},
   "outputs": [
    {
     "name": "stdout",
     "output_type": "stream",
     "text": [
      "['vel.0000.png' 'vel.0001.png' 'vel.0002.png' ... 'vel.1497.png'\n",
      " 'vel.1498.png' 'vel.1499.png']\n"
     ]
    }
   ],
   "source": [
    "image_folder = '/home/yuvi/icts/courses/Numerical Methods/term paper/NM Term Paper/lbm_triag_90'\n",
    "video_name = 'LBM_Traig_Re_90.mp4'\n",
    "fps = 30\n",
    "images_to_video(image_folder, video_name, fps)"
   ]
  },
  {
   "cell_type": "code",
   "execution_count": 18,
   "metadata": {},
   "outputs": [
    {
     "name": "stdout",
     "output_type": "stream",
     "text": [
      "['vel.0000.png' 'vel.0001.png' 'vel.0002.png' ... 'vel.1497.png'\n",
      " 'vel.1498.png' 'vel.1499.png']\n"
     ]
    }
   ],
   "source": [
    "image_folder = '/home/yuvi/icts/courses/Numerical Methods/term paper/NM Term Paper/lbm_triag_1100'\n",
    "video_name = 'LBM_Traig_Re_1100.mp4'\n",
    "fps = 24\n",
    "images_to_video(image_folder, video_name, fps)"
   ]
  }
 ],
 "metadata": {
  "kernelspec": {
   "display_name": "Python 3 (ipykernel)",
   "language": "python",
   "name": "python3"
  },
  "language_info": {
   "codemirror_mode": {
    "name": "ipython",
    "version": 3
   },
   "file_extension": ".py",
   "mimetype": "text/x-python",
   "name": "python",
   "nbconvert_exporter": "python",
   "pygments_lexer": "ipython3",
   "version": "3.11.5"
  }
 },
 "nbformat": 4,
 "nbformat_minor": 2
}
